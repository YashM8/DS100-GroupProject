{
 "cells": [
  {
   "cell_type": "markdown",
   "id": "23827d47-50b0-4bc3-afc7-5996770982e7",
   "metadata": {},
   "source": [
    "# Group 33 - Proposal #"
   ]
  },
  {
   "cell_type": "markdown",
   "id": "6758c288-e8a2-4097-a051-73b968cfe470",
   "metadata": {
    "tags": []
   },
   "source": [
    "# Introduction\n",
    "\n",
    "Diabetes is a health condition that affects how our bodies process nutrients into energy. Insulin plays a crucial role in this process, allowing the nutrients to enter our cells to be utilized. Diabetes is characterized as a difficulty with the amount or function of insulin, resulting in an abnormally high amount of sugar in the bloodstream. This can cause serious health problems, and so it is beneficial to predict in early stages.\n",
    "\n",
    "\n",
    "Our study will predict the diabetes status of a patient, based on their medical profile. The Diabetes Prediction Dataset will be used to answer this question, which contains medical and demographical data such as age, gender, body mass index (BMI), hypertension, heart disease, smoking history, HbA1c level, and blood glucose level. These findings can be used to analyze the functionality of these predictors, developing our predictive models for diabetes status in the future.\n"
   ]
  },
  {
   "cell_type": "markdown",
   "id": "ce24e76a-c3ab-4ea2-8d02-fa15a497617a",
   "metadata": {
    "tags": []
   },
   "source": [
    "# Preliminary Exploratory Data Analysis\n"
   ]
  },
  {
   "cell_type": "markdown",
   "id": "b26d1195-7595-4591-a448-d9098b2c80fb",
   "metadata": {},
   "source": [
    "## Reading and wrangling the data"
   ]
  },
  {
   "cell_type": "code",
<<<<<<< HEAD
   "execution_count": 94,
=======
   "execution_count": 2,
>>>>>>> bf75da423060e31c8d7c9fa8d7f434ffe186ff51
   "id": "6ea6b280-2d2c-4266-a516-7b01ff81cd98",
   "metadata": {
    "ExecuteTime": {
     "end_time": "2023-06-08T21:04:01.367390Z",
     "start_time": "2023-06-08T21:04:00.527242Z"
    }
   },
   "outputs": [
    {
     "name": "stderr",
     "output_type": "stream",
     "text": [
      "── \u001b[1mAttaching packages\u001b[22m ─────────────────────────────────────── tidyverse 1.3.1 ──\n",
      "\n",
      "\u001b[32m✔\u001b[39m \u001b[34mggplot2\u001b[39m 3.3.6     \u001b[32m✔\u001b[39m \u001b[34mpurrr  \u001b[39m 0.3.4\n",
      "\u001b[32m✔\u001b[39m \u001b[34mtibble \u001b[39m 3.1.7     \u001b[32m✔\u001b[39m \u001b[34mdplyr  \u001b[39m 1.0.9\n",
      "\u001b[32m✔\u001b[39m \u001b[34mtidyr  \u001b[39m 1.2.0     \u001b[32m✔\u001b[39m \u001b[34mstringr\u001b[39m 1.4.0\n",
      "\u001b[32m✔\u001b[39m \u001b[34mreadr  \u001b[39m 2.1.2     \u001b[32m✔\u001b[39m \u001b[34mforcats\u001b[39m 0.5.1\n",
      "\n",
      "── \u001b[1mConflicts\u001b[22m ────────────────────────────────────────── tidyverse_conflicts() ──\n",
      "\u001b[31m✖\u001b[39m \u001b[34mdplyr\u001b[39m::\u001b[32mfilter()\u001b[39m masks \u001b[34mstats\u001b[39m::filter()\n",
      "\u001b[31m✖\u001b[39m \u001b[34mdplyr\u001b[39m::\u001b[32mlag()\u001b[39m    masks \u001b[34mstats\u001b[39m::lag()\n",
      "\n",
      "── \u001b[1mAttaching packages\u001b[22m ────────────────────────────────────── tidymodels 1.0.0 ──\n",
      "\n",
      "\u001b[32m✔\u001b[39m \u001b[34mbroom       \u001b[39m 1.0.0     \u001b[32m✔\u001b[39m \u001b[34mrsample     \u001b[39m 1.0.0\n",
      "\u001b[32m✔\u001b[39m \u001b[34mdials       \u001b[39m 1.0.0     \u001b[32m✔\u001b[39m \u001b[34mtune        \u001b[39m 1.0.0\n",
      "\u001b[32m✔\u001b[39m \u001b[34minfer       \u001b[39m 1.0.2     \u001b[32m✔\u001b[39m \u001b[34mworkflows   \u001b[39m 1.0.0\n",
      "\u001b[32m✔\u001b[39m \u001b[34mmodeldata   \u001b[39m 1.0.0     \u001b[32m✔\u001b[39m \u001b[34mworkflowsets\u001b[39m 1.0.0\n",
      "\u001b[32m✔\u001b[39m \u001b[34mparsnip     \u001b[39m 1.0.0     \u001b[32m✔\u001b[39m \u001b[34myardstick   \u001b[39m 1.0.0\n",
      "\u001b[32m✔\u001b[39m \u001b[34mrecipes     \u001b[39m 1.0.1     \n",
      "\n",
      "── \u001b[1mConflicts\u001b[22m ───────────────────────────────────────── tidymodels_conflicts() ──\n",
      "\u001b[31m✖\u001b[39m \u001b[34mscales\u001b[39m::\u001b[32mdiscard()\u001b[39m masks \u001b[34mpurrr\u001b[39m::discard()\n",
      "\u001b[31m✖\u001b[39m \u001b[34mdplyr\u001b[39m::\u001b[32mfilter()\u001b[39m   masks \u001b[34mstats\u001b[39m::filter()\n",
      "\u001b[31m✖\u001b[39m \u001b[34mrecipes\u001b[39m::\u001b[32mfixed()\u001b[39m  masks \u001b[34mstringr\u001b[39m::fixed()\n",
      "\u001b[31m✖\u001b[39m \u001b[34mdplyr\u001b[39m::\u001b[32mlag()\u001b[39m      masks \u001b[34mstats\u001b[39m::lag()\n",
      "\u001b[31m✖\u001b[39m \u001b[34myardstick\u001b[39m::\u001b[32mspec()\u001b[39m masks \u001b[34mreadr\u001b[39m::spec()\n",
      "\u001b[31m✖\u001b[39m \u001b[34mrecipes\u001b[39m::\u001b[32mstep()\u001b[39m   masks \u001b[34mstats\u001b[39m::step()\n",
      "\u001b[34m•\u001b[39m Use suppressPackageStartupMessages() to eliminate package startup messages\n",
      "\n"
     ]
    }
   ],
   "source": [
    "library(tidyverse)\n",
    "library(tidymodels)\n",
    "require(gridExtra)"
   ]
  },
  {
   "cell_type": "code",
<<<<<<< HEAD
   "execution_count": 95,
=======
   "execution_count": 3,
>>>>>>> bf75da423060e31c8d7c9fa8d7f434ffe186ff51
   "id": "f8980485-dad4-4429-a279-6cd4c09b8673",
   "metadata": {},
   "outputs": [],
   "source": [
    "url <- \"https://raw.githubusercontent.com/billiehbl/project_group33/main/diabetes_prediction_dataset.csv\"\n",
    "diabetes_data <- read_csv(url, show_col_types = FALSE)\n",
    "\n",
    "tidy_diabetes <- diabetes_data |> filter(smoking_history != \"No Info\") |> filter(gender != 'Other')|>\n",
    "    filter(age >= 2)|> mutate(diabetes = as_factor(diabetes))"
   ]
  },
  {
   "cell_type": "markdown",
   "id": "2b548f80-3bb8-4a72-b66a-f3055dfc1a21",
   "metadata": {},
   "source": [
    "## Splitting into training and testing"
   ]
  },
  {
   "cell_type": "code",
   "execution_count": 96,
   "id": "7a3f272e-6002-43cf-9a93-a0694ddf5c08",
   "metadata": {},
   "outputs": [
    {
     "data": {
      "text/html": [
       "<table class=\"dataframe\">\n",
       "<caption>A tibble: 6 × 9</caption>\n",
       "<thead>\n",
       "\t<tr><th scope=col>gender</th><th scope=col>age</th><th scope=col>hypertension</th><th scope=col>heart_disease</th><th scope=col>smoking_history</th><th scope=col>bmi</th><th scope=col>HbA1c_level</th><th scope=col>blood_glucose_level</th><th scope=col>diabetes</th></tr>\n",
       "\t<tr><th scope=col>&lt;chr&gt;</th><th scope=col>&lt;dbl&gt;</th><th scope=col>&lt;dbl&gt;</th><th scope=col>&lt;dbl&gt;</th><th scope=col>&lt;chr&gt;</th><th scope=col>&lt;dbl&gt;</th><th scope=col>&lt;dbl&gt;</th><th scope=col>&lt;dbl&gt;</th><th scope=col>&lt;fct&gt;</th></tr>\n",
       "</thead>\n",
       "<tbody>\n",
       "\t<tr><td>Male  </td><td>50</td><td>1</td><td>0</td><td>never  </td><td>37.26</td><td>5.7</td><td>160</td><td>0</td></tr>\n",
       "\t<tr><td>Female</td><td>47</td><td>0</td><td>0</td><td>never  </td><td>30.55</td><td>6.2</td><td>145</td><td>0</td></tr>\n",
       "\t<tr><td>Male  </td><td>72</td><td>0</td><td>0</td><td>never  </td><td>25.52</td><td>6.6</td><td>130</td><td>0</td></tr>\n",
       "\t<tr><td>Male  </td><td>56</td><td>0</td><td>0</td><td>current</td><td>32.83</td><td>6.0</td><td>100</td><td>0</td></tr>\n",
       "\t<tr><td>Female</td><td>24</td><td>0</td><td>0</td><td>never  </td><td>23.28</td><td>4.5</td><td>130</td><td>0</td></tr>\n",
       "\t<tr><td>Male  </td><td>55</td><td>0</td><td>0</td><td>ever   </td><td>22.51</td><td>6.5</td><td>126</td><td>0</td></tr>\n",
       "</tbody>\n",
       "</table>\n"
      ],
      "text/latex": [
       "A tibble: 6 × 9\n",
       "\\begin{tabular}{lllllllll}\n",
       " gender & age & hypertension & heart\\_disease & smoking\\_history & bmi & HbA1c\\_level & blood\\_glucose\\_level & diabetes\\\\\n",
       " <chr> & <dbl> & <dbl> & <dbl> & <chr> & <dbl> & <dbl> & <dbl> & <fct>\\\\\n",
       "\\hline\n",
       "\t Male   & 50 & 1 & 0 & never   & 37.26 & 5.7 & 160 & 0\\\\\n",
       "\t Female & 47 & 0 & 0 & never   & 30.55 & 6.2 & 145 & 0\\\\\n",
       "\t Male   & 72 & 0 & 0 & never   & 25.52 & 6.6 & 130 & 0\\\\\n",
       "\t Male   & 56 & 0 & 0 & current & 32.83 & 6.0 & 100 & 0\\\\\n",
       "\t Female & 24 & 0 & 0 & never   & 23.28 & 4.5 & 130 & 0\\\\\n",
       "\t Male   & 55 & 0 & 0 & ever    & 22.51 & 6.5 & 126 & 0\\\\\n",
       "\\end{tabular}\n"
      ],
      "text/markdown": [
       "\n",
       "A tibble: 6 × 9\n",
       "\n",
       "| gender &lt;chr&gt; | age &lt;dbl&gt; | hypertension &lt;dbl&gt; | heart_disease &lt;dbl&gt; | smoking_history &lt;chr&gt; | bmi &lt;dbl&gt; | HbA1c_level &lt;dbl&gt; | blood_glucose_level &lt;dbl&gt; | diabetes &lt;fct&gt; |\n",
       "|---|---|---|---|---|---|---|---|---|\n",
       "| Male   | 50 | 1 | 0 | never   | 37.26 | 5.7 | 160 | 0 |\n",
       "| Female | 47 | 0 | 0 | never   | 30.55 | 6.2 | 145 | 0 |\n",
       "| Male   | 72 | 0 | 0 | never   | 25.52 | 6.6 | 130 | 0 |\n",
       "| Male   | 56 | 0 | 0 | current | 32.83 | 6.0 | 100 | 0 |\n",
       "| Female | 24 | 0 | 0 | never   | 23.28 | 4.5 | 130 | 0 |\n",
       "| Male   | 55 | 0 | 0 | ever    | 22.51 | 6.5 | 126 | 0 |\n",
       "\n"
      ],
      "text/plain": [
       "  gender age hypertension heart_disease smoking_history bmi   HbA1c_level\n",
       "1 Male   50  1            0             never           37.26 5.7        \n",
       "2 Female 47  0            0             never           30.55 6.2        \n",
       "3 Male   72  0            0             never           25.52 6.6        \n",
       "4 Male   56  0            0             current         32.83 6.0        \n",
       "5 Female 24  0            0             never           23.28 4.5        \n",
       "6 Male   55  0            0             ever            22.51 6.5        \n",
       "  blood_glucose_level diabetes\n",
       "1 160                 0       \n",
       "2 145                 0       \n",
       "3 130                 0       \n",
       "4 100                 0       \n",
       "5 130                 0       \n",
       "6 126                 0       "
      ]
     },
     "metadata": {},
     "output_type": "display_data"
    }
   ],
   "source": [
<<<<<<< HEAD
=======
    "url <- \"https://raw.githubusercontent.com/billiehbl/project_group33/main/diabetes_prediction_dataset.csv\"\n",
    "diabetes_data <- read_csv(url)\n",
    "\n",
    "tidy_diabetes <- diabetes_data |> filter(smoking_history != \"No Info\") |> filter(gender != 'Other')|>\n",
    "    filter(age >= 2)|> mutate(diabetes = as_factor(diabetes))\n",
    "\n",
    "head(tidy_diabetes)"
   ]
  },
  {
   "cell_type": "markdown",
   "id": "2b548f80-3bb8-4a72-b66a-f3055dfc1a21",
   "metadata": {},
   "source": [
    "## Splitting into testing and training data sets"
   ]
  },
  {
   "cell_type": "code",
   "execution_count": 4,
   "id": "7a3f272e-6002-43cf-9a93-a0694ddf5c08",
   "metadata": {},
   "outputs": [],
   "source": [
>>>>>>> bf75da423060e31c8d7c9fa8d7f434ffe186ff51
    "diabetes_split <- initial_split(tidy_diabetes, prop = 0.75, strata = diabetes)\n",
    "diabetes_train <- training(diabetes_split)\n",
    "diabetes_train = diabetes_train[sample(1:nrow(diabetes_train)), ] # shuffles data frame\n",
    "diabetes_testing <- testing(diabetes_split)\n",
    "head(diabetes_train)"
   ]
  },
  {
   "cell_type": "markdown",
   "id": "a301343b-ea66-4bb1-b549-5ed44ea1fee4",
   "metadata": {},
   "source": [
    "## Summary statistics"
   ]
  },
  {
   "cell_type": "code",
<<<<<<< HEAD
   "execution_count": 97,
=======
   "execution_count": 5,
>>>>>>> bf75da423060e31c8d7c9fa8d7f434ffe186ff51
   "id": "5335af87-b809-4b77-8b75-304c77d4ed9e",
   "metadata": {},
   "outputs": [
    {
     "data": {
      "text/html": [
       "<table class=\"dataframe\">\n",
       "<caption>A tibble: 2 × 2</caption>\n",
       "<thead>\n",
       "\t<tr><th scope=col>diabetes</th><th scope=col>count</th></tr>\n",
       "\t<tr><th scope=col>&lt;fct&gt;</th><th scope=col>&lt;int&gt;</th></tr>\n",
       "</thead>\n",
       "<tbody>\n",
       "\t<tr><td>0</td><td>42724</td></tr>\n",
       "\t<tr><td>1</td><td> 5284</td></tr>\n",
       "</tbody>\n",
       "</table>\n"
      ],
      "text/latex": [
       "A tibble: 2 × 2\n",
       "\\begin{tabular}{ll}\n",
       " diabetes & count\\\\\n",
       " <fct> & <int>\\\\\n",
       "\\hline\n",
       "\t 0 & 42724\\\\\n",
       "\t 1 &  5284\\\\\n",
       "\\end{tabular}\n"
      ],
      "text/markdown": [
       "\n",
       "A tibble: 2 × 2\n",
       "\n",
       "| diabetes &lt;fct&gt; | count &lt;int&gt; |\n",
       "|---|---|\n",
       "| 0 | 42724 |\n",
       "| 1 |  5284 |\n",
       "\n"
      ],
      "text/plain": [
       "  diabetes count\n",
       "1 0        42724\n",
       "2 1         5284"
      ]
     },
     "metadata": {},
     "output_type": "display_data"
    }
   ],
   "source": [
    "training_counts <- diabetes_train |>\n",
    "    group_by(diabetes) |>\n",
    "    summarize(count = n())\n",
    "training_counts"
   ]
  },
  {
   "cell_type": "markdown",
   "id": "3dcd0cf9-5dd1-4987-a52f-ba5777cbd8b7",
   "metadata": {},
   "source": [
    "The above table shows the number of observations that fall into each category, diabetes absent and diabetes present, within the training data set. Here, there are significantly more observations that are diabetes absent compared to diabetes present, which reflects the smaller proportion of people in the general population who have diabetes."
   ]
  },
  {
   "cell_type": "code",
   "execution_count": 7,
   "id": "afa4e869-1311-4bae-9a40-a00ce7948179",
   "metadata": {},
   "outputs": [
    {
     "data": {
      "text/html": [
       "<table class=\"dataframe\">\n",
       "<caption>A tibble: 4 × 4</caption>\n",
       "<thead>\n",
       "\t<tr><th scope=col>factor</th><th scope=col>mean</th><th scope=col>minimum</th><th scope=col>maximum</th></tr>\n",
       "\t<tr><th scope=col>&lt;chr&gt;</th><th scope=col>&lt;dbl&gt;</th><th scope=col>&lt;dbl&gt;</th><th scope=col>&lt;dbl&gt;</th></tr>\n",
       "</thead>\n",
       "<tbody>\n",
       "\t<tr><td>age          </td><td> 46.678116</td><td> 2.00</td><td> 80.00</td></tr>\n",
       "\t<tr><td>bmi          </td><td> 28.437640</td><td>10.19</td><td> 91.82</td></tr>\n",
       "\t<tr><td>HbA1c        </td><td>  5.565135</td><td> 3.50</td><td>  9.00</td></tr>\n",
       "\t<tr><td>blood_glucose</td><td>139.687823</td><td>80.00</td><td>300.00</td></tr>\n",
       "</tbody>\n",
       "</table>\n"
      ],
      "text/latex": [
       "A tibble: 4 × 4\n",
       "\\begin{tabular}{llll}\n",
       " factor & mean & minimum & maximum\\\\\n",
       " <chr> & <dbl> & <dbl> & <dbl>\\\\\n",
       "\\hline\n",
       "\t age           &  46.678116 &  2.00 &  80.00\\\\\n",
       "\t bmi           &  28.437640 & 10.19 &  91.82\\\\\n",
       "\t HbA1c         &   5.565135 &  3.50 &   9.00\\\\\n",
       "\t blood\\_glucose & 139.687823 & 80.00 & 300.00\\\\\n",
       "\\end{tabular}\n"
      ],
      "text/markdown": [
       "\n",
       "A tibble: 4 × 4\n",
       "\n",
       "| factor &lt;chr&gt; | mean &lt;dbl&gt; | minimum &lt;dbl&gt; | maximum &lt;dbl&gt; |\n",
       "|---|---|---|---|\n",
       "| age           |  46.678116 |  2.00 |  80.00 |\n",
       "| bmi           |  28.437640 | 10.19 |  91.82 |\n",
       "| HbA1c         |   5.565135 |  3.50 |   9.00 |\n",
       "| blood_glucose | 139.687823 | 80.00 | 300.00 |\n",
       "\n"
      ],
      "text/plain": [
       "  factor        mean       minimum maximum\n",
       "1 age            46.678116  2.00    80.00 \n",
       "2 bmi            28.437640 10.19    91.82 \n",
       "3 HbA1c           5.565135  3.50     9.00 \n",
       "4 blood_glucose 139.687823 80.00   300.00 "
      ]
     },
     "metadata": {},
     "output_type": "display_data"
    }
   ],
   "source": [
    "means <- diabetes_train |>\n",
    "        summarize(age = mean(age), bmi = mean(bmi),\n",
    "        HbA1c = mean(HbA1c_level), blood_glucose = mean(blood_glucose_level))\n",
    "tidy_means <- pivot_longer(means, cols = age:blood_glucose,\n",
    "        names_to = \"factor\", values_to = \"mean\")\n",
    "\n",
    "mins <- diabetes_train |>\n",
    "        summarize(age = min(age), bmi = min(bmi),\n",
    "        HbA1c = min(HbA1c_level), blood_glucose = min(blood_glucose_level))\n",
    "tidy_mins <- pivot_longer(mins, cols = age:blood_glucose,\n",
    "        names_to = \"factor\", values_to = \"minimum\")\n",
    "\n",
    "max <- diabetes_train |>\n",
    "        summarize(age = max(age), bmi = max(bmi),\n",
    "        HbA1c = max(HbA1c_level), blood_glucose = max(blood_glucose_level))\n",
    "tidy_max <- pivot_longer(max, cols = age:blood_glucose,\n",
    "        names_to = \"factor\", values_to = \"maximum\")\n",
    "\n",
    "summary <- tidy_means |>\n",
    "        bind_cols(tidy_mins |> select(minimum)) |>\n",
    "        bind_cols(tidy_max |> select(maximum))\n",
    "summary"
   ]
  },
  {
   "cell_type": "markdown",
   "id": "369f66cb-dac5-48e1-9488-7b5063c946f9",
   "metadata": {},
   "source": [
    "The above table provides summary statistics for each predictor variable we will be using in our classifcation model based on the training data set."
   ]
  },
  {
   "cell_type": "markdown",
   "id": "b3532d6c-d1fc-4470-a17d-d4c7145fa55b",
   "metadata": {},
   "source": [
    "## Visualizations"
   ]
  },
  {
   "cell_type": "code",
   "execution_count": 98,
   "id": "1a205066-620c-4d1e-b389-97a35e55752a",
   "metadata": {},
   "outputs": [
    {
     "name": "stderr",
     "output_type": "stream",
     "text": [
      "\u001b[1m\u001b[22m`summarise()` has grouped output by 'diabetes'. You can override using the\n",
      "`.groups` argument.\n",
      "\u001b[1m\u001b[22m`summarise()` has grouped output by 'diabetes'. You can override using the\n",
      "`.groups` argument.\n",
      "`stat_bin()` using `bins = 30`. Pick better value with `binwidth`.\n",
      "\n"
     ]
    },
    {
     "data": {
      "image/png": 
      "text/plain": [
       "plot without title"
      ]
     },
     "metadata": {
      "image/png": {
       "height": 300,
       "width": 1200
      }
     },
     "output_type": "display_data"
    },
    {
     "data": {
      "image/png": 
      "text/plain": [
       "plot without title"
      ]
     },
     "metadata": {
      "image/png": {
       "height": 300,
       "width": 1200
      }
     },
     "output_type": "display_data"
    }
   ],
   "source": [
    "options(repr.plot.width = 20, repr.plot.height = 5)\n",
    "\n",
    "age_scatter = ggplot(diabetes_train |> group_by(diabetes, age)|> summarize(num_age = n()), \n",
    "                     aes(x=age, y=num_age, color=diabetes)) + geom_point() + \n",
    "    labs(x='Age', y='Number of Diabetes Cases', title=\"Age vs Diabetes\", color='Diabetes') + \n",
    "    scale_color_manual(labels = c(\"No\", \"Yes\"), values = c(\"red\", \"blue\")) +\n",
    "    theme(text=element_text(size=16))\n",
    "\n",
    "bmi_hist = ggplot(diabetes_train, aes(x = bmi, fill = diabetes)) + geom_histogram() + \n",
    "    labs(x='Body Mass Index (BMI)', y='Number of Diabetes Cases', title=\"BMI and Diabetes\") +\n",
    "    scale_fill_discrete(name = \"Diabetes\", labels = c(\"No\", \"Yes\")) +\n",
    "    theme(text=element_text(size=16))\n",
    "\n",
    "smoking_scatter = ggplot(diabetes_train |> group_by(diabetes, smoking_history)|> \n",
    "                         summarize(num_age = n()) |> filter(smoking_history != 'ever'), \n",
    "                     aes(x=smoking_history, y=num_age, fill=diabetes)) + geom_bar(stat = \"identity\") + \n",
    "    labs(x='Smoking History', y='Number of Diabetes Cases', title=\"Smoking vs Diabetes\", color='Diabetes') + \n",
    "    scale_color_manual(labels = c(\"No\", \"Yes\"), values = c(\"red\", \"blue\")) +\n",
    "\n",
    "    theme(text=element_text(size=16))\n",
    "\n",
    "age_scatter\n",
    "grid.arrange(bmi_hist, smoking_scatter, ncol=2)\n"
   ]
  },
  {
   "cell_type": "markdown",
   "id": "10fdf995-8d4f-4047-99fd-12e19ebf2c01",
   "metadata": {},
   "source": [
    "# Methods"
   ]
  },
  {
   "cell_type": "markdown",
   "id": "116972a6-04e2-4017-aa2e-1168fd9120fd",
   "metadata": {},
   "source": [
    "# Expected Outcomes and Significance"
   ]
  },
  {
   "cell_type": "markdown",
   "id": "c894f85b-e9e5-4fca-83a8-be2ea93979c6",
   "metadata": {},
   "source": [
<<<<<<< HEAD
    "**What do you expect to find?**\n",
    "\n",
    "We expect to find that those who score highest in the all of the variables (gender, age, hypertension, \n",
    "heart_disease, smoking_history, bmi, HbA1c_level, blood_glucose_level) will be more likely to be diagnosed \n",
    "with diabetes compared to those who scored lower in these categories.\n",
    "\n",
    "\n",
    "**What impact could such findings have?**\n",
    "\n",
    "By analyzing these variables as a collective group, researchers can develop predictive models, risk \n",
    "assessment tools, and interventions to identify the individuals who are at high risk for diabetes. \n",
    "Moreover, these findings can help healthcare professionals initiate prevention strategies, provide early \n",
    "interventions, and even improve diabetes management in affected individuals.\n",
    "\n",
    "\n",
    "**What future questions could this lead to?**\n",
    "\n",
    "Future questions this data can lead to is how do these variables interact with other factors such as \n",
    "genetic predispositions, socioeconomic status, or lifestyle factors, to impact the susceptibility of being\n",
    "diagnosed with diabetes.\n",
    "\n",
    "Furthermore, this can lead to other future questions such as if we combine these variables with certain \n",
    "biomarkers or genetic markers it can enhance the early dectect of diabetes.\n",
    "Lastly, we have only shown how BMI and age interacts with diabetes in the graphs above; however, it would \n",
    "also be reasonable to have future questions regarding the relationship between all the different variables\n",
    "in the dataset and diabetes. For example, how does blood glucose levels correlate with diabetes diagnosis \n",
    "and risk assessment? How does smoking history influence the risk and progression of diabetes?"
=======
    "We expect to find that individuals who score highest in all of the predictor variables we will use for our classification model (age, bmi, HbA1c_level, blood_glucose_level) will be more likely to be diagnosed with diabetes compared to those who scored lower in these categories.\n",
    "\n",
    "By analyzing these variables as a collective group, we can work towards developing predictive models, risk \n",
    "assessment tools, and interventions to identify the individuals who are at high risk for diabetes. Moreover, these findings can help healthcare professionals initiate prevention strategies, provide early \n",
    "interventions, and even improve diabetes management in affected individuals.\n",
    "\n",
    "Future questions this data can lead to is how do these variables interact with other factors such as \n",
    "genetic predispositions, socioeconomic status, or lifestyle factors, to impact the susceptibility of being\n",
    "diagnosed with diabetes. Furthermore, this can lead to other future questions such as if we combine these variables with certain biomarkers or genetic markers it can enhance the early dectect of diabetes. Lastly, we have only shown how BMI and age interacts with diabetes in the graphs above; however, it would also be reasonable to have future questions regarding the relationship between all the different variables in the dataset and diabetes. For example, how does blood glucose levels correlate with diabetes diagnosis and risk assessment? How does smoking history influence the risk and progression of diabetes?"
>>>>>>> bf75da423060e31c8d7c9fa8d7f434ffe186ff51
   ]
  }
 ],
 "metadata": {
  "kernelspec": {
   "display_name": "R",
   "language": "R",
   "name": "ir"
  },
  "language_info": {
   "codemirror_mode": "r",
   "file_extension": ".r",
   "mimetype": "text/x-r-source",
   "name": "R",
   "pygments_lexer": "r",
   "version": "4.1.3"
  }
 },
 "nbformat": 4,
 "nbformat_minor": 5
}
