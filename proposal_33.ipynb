{
 "cells": [
  {
   "cell_type": "markdown",
   "id": "23827d47-50b0-4bc3-afc7-5996770982e7",
   "metadata": {},
   "source": [
    "# Group 33 - Proposal #"
   ]
  },
  {
   "cell_type": "markdown",
   "id": "6758c288-e8a2-4097-a051-73b968cfe470",
   "metadata": {
    "tags": []
   },
   "source": [
    "# Introduction\n",
    "\n",
    "## start with background information\n",
    "## Q: Based on their medical profile, what is the diabetes status of a patient?\n",
    "## info on dataset used to answer this"
   ]
  },
  {
   "cell_type": "markdown",
   "id": "ce24e76a-c3ab-4ea2-8d02-fa15a497617a",
   "metadata": {},
   "source": [
    "# Preliminary exploratory data analysis\n"
   ]
  },
  {
   "cell_type": "markdown",
   "id": "b26d1195-7595-4591-a448-d9098b2c80fb",
   "metadata": {},
   "source": [
    "## Reading and Wrangling"
   ]
  },
  {
   "cell_type": "code",
   "execution_count": 2,
   "id": "6ea6b280-2d2c-4266-a516-7b01ff81cd98",
   "metadata": {},
   "outputs": [
    {
     "name": "stderr",
     "output_type": "stream",
     "text": [
      "── \u001b[1mAttaching packages\u001b[22m ─────────────────────────────────────── tidyverse 1.3.1 ──\n",
      "\n",
      "\u001b[32m✔\u001b[39m \u001b[34mggplot2\u001b[39m 3.3.6     \u001b[32m✔\u001b[39m \u001b[34mpurrr  \u001b[39m 0.3.4\n",
      "\u001b[32m✔\u001b[39m \u001b[34mtibble \u001b[39m 3.1.7     \u001b[32m✔\u001b[39m \u001b[34mdplyr  \u001b[39m 1.0.9\n",
      "\u001b[32m✔\u001b[39m \u001b[34mtidyr  \u001b[39m 1.2.0     \u001b[32m✔\u001b[39m \u001b[34mstringr\u001b[39m 1.4.0\n",
      "\u001b[32m✔\u001b[39m \u001b[34mreadr  \u001b[39m 2.1.2     \u001b[32m✔\u001b[39m \u001b[34mforcats\u001b[39m 0.5.1\n",
      "\n",
      "── \u001b[1mConflicts\u001b[22m ────────────────────────────────────────── tidyverse_conflicts() ──\n",
      "\u001b[31m✖\u001b[39m \u001b[34mdplyr\u001b[39m::\u001b[32mfilter()\u001b[39m masks \u001b[34mstats\u001b[39m::filter()\n",
      "\u001b[31m✖\u001b[39m \u001b[34mdplyr\u001b[39m::\u001b[32mlag()\u001b[39m    masks \u001b[34mstats\u001b[39m::lag()\n",
      "\n",
      "\u001b[1mRows: \u001b[22m\u001b[34m100000\u001b[39m \u001b[1mColumns: \u001b[22m\u001b[34m9\u001b[39m\n",
      "\u001b[36m──\u001b[39m \u001b[1mColumn specification\u001b[22m \u001b[36m────────────────────────────────────────────────────────\u001b[39m\n",
      "\u001b[1mDelimiter:\u001b[22m \",\"\n",
      "\u001b[31mchr\u001b[39m (2): gender, smoking_history\n",
      "\u001b[32mdbl\u001b[39m (7): age, hypertension, heart_disease, bmi, HbA1c_level, blood_glucose_l...\n",
      "\n",
      "\u001b[36mℹ\u001b[39m Use `spec()` to retrieve the full column specification for this data.\n",
      "\u001b[36mℹ\u001b[39m Specify the column types or set `show_col_types = FALSE` to quiet this message.\n"
     ]
    },
    {
     "data": {
      "text/html": [
       "<table class=\"dataframe\">\n",
       "<caption>A tibble: 6 × 9</caption>\n",
       "<thead>\n",
       "\t<tr><th scope=col>gender</th><th scope=col>age</th><th scope=col>hypertension</th><th scope=col>heart_disease</th><th scope=col>smoking_history</th><th scope=col>bmi</th><th scope=col>HbA1c_level</th><th scope=col>blood_glucose_level</th><th scope=col>diabetes</th></tr>\n",
       "\t<tr><th scope=col>&lt;chr&gt;</th><th scope=col>&lt;dbl&gt;</th><th scope=col>&lt;dbl&gt;</th><th scope=col>&lt;dbl&gt;</th><th scope=col>&lt;chr&gt;</th><th scope=col>&lt;dbl&gt;</th><th scope=col>&lt;dbl&gt;</th><th scope=col>&lt;dbl&gt;</th><th scope=col>&lt;dbl&gt;</th></tr>\n",
       "</thead>\n",
       "<tbody>\n",
       "\t<tr><td>Female</td><td>80</td><td>0</td><td>1</td><td>never  </td><td>25.19</td><td>6.6</td><td>140</td><td>0</td></tr>\n",
       "\t<tr><td>Female</td><td>54</td><td>0</td><td>0</td><td>No Info</td><td>27.32</td><td>6.6</td><td> 80</td><td>0</td></tr>\n",
       "\t<tr><td>Male  </td><td>28</td><td>0</td><td>0</td><td>never  </td><td>27.32</td><td>5.7</td><td>158</td><td>0</td></tr>\n",
       "\t<tr><td>Female</td><td>36</td><td>0</td><td>0</td><td>current</td><td>23.45</td><td>5.0</td><td>155</td><td>0</td></tr>\n",
       "\t<tr><td>Male  </td><td>76</td><td>1</td><td>1</td><td>current</td><td>20.14</td><td>4.8</td><td>155</td><td>0</td></tr>\n",
       "\t<tr><td>Female</td><td>20</td><td>0</td><td>0</td><td>never  </td><td>27.32</td><td>6.6</td><td> 85</td><td>0</td></tr>\n",
       "</tbody>\n",
       "</table>\n"
      ],
      "text/latex": [
       "A tibble: 6 × 9\n",
       "\\begin{tabular}{lllllllll}\n",
       " gender & age & hypertension & heart\\_disease & smoking\\_history & bmi & HbA1c\\_level & blood\\_glucose\\_level & diabetes\\\\\n",
       " <chr> & <dbl> & <dbl> & <dbl> & <chr> & <dbl> & <dbl> & <dbl> & <dbl>\\\\\n",
       "\\hline\n",
       "\t Female & 80 & 0 & 1 & never   & 25.19 & 6.6 & 140 & 0\\\\\n",
       "\t Female & 54 & 0 & 0 & No Info & 27.32 & 6.6 &  80 & 0\\\\\n",
       "\t Male   & 28 & 0 & 0 & never   & 27.32 & 5.7 & 158 & 0\\\\\n",
       "\t Female & 36 & 0 & 0 & current & 23.45 & 5.0 & 155 & 0\\\\\n",
       "\t Male   & 76 & 1 & 1 & current & 20.14 & 4.8 & 155 & 0\\\\\n",
       "\t Female & 20 & 0 & 0 & never   & 27.32 & 6.6 &  85 & 0\\\\\n",
       "\\end{tabular}\n"
      ],
      "text/markdown": [
       "\n",
       "A tibble: 6 × 9\n",
       "\n",
       "| gender &lt;chr&gt; | age &lt;dbl&gt; | hypertension &lt;dbl&gt; | heart_disease &lt;dbl&gt; | smoking_history &lt;chr&gt; | bmi &lt;dbl&gt; | HbA1c_level &lt;dbl&gt; | blood_glucose_level &lt;dbl&gt; | diabetes &lt;dbl&gt; |\n",
       "|---|---|---|---|---|---|---|---|---|\n",
       "| Female | 80 | 0 | 1 | never   | 25.19 | 6.6 | 140 | 0 |\n",
       "| Female | 54 | 0 | 0 | No Info | 27.32 | 6.6 |  80 | 0 |\n",
       "| Male   | 28 | 0 | 0 | never   | 27.32 | 5.7 | 158 | 0 |\n",
       "| Female | 36 | 0 | 0 | current | 23.45 | 5.0 | 155 | 0 |\n",
       "| Male   | 76 | 1 | 1 | current | 20.14 | 4.8 | 155 | 0 |\n",
       "| Female | 20 | 0 | 0 | never   | 27.32 | 6.6 |  85 | 0 |\n",
       "\n"
      ],
      "text/plain": [
       "  gender age hypertension heart_disease smoking_history bmi   HbA1c_level\n",
       "1 Female 80  0            1             never           25.19 6.6        \n",
       "2 Female 54  0            0             No Info         27.32 6.6        \n",
       "3 Male   28  0            0             never           27.32 5.7        \n",
       "4 Female 36  0            0             current         23.45 5.0        \n",
       "5 Male   76  1            1             current         20.14 4.8        \n",
       "6 Female 20  0            0             never           27.32 6.6        \n",
       "  blood_glucose_level diabetes\n",
       "1 140                 0       \n",
       "2  80                 0       \n",
       "3 158                 0       \n",
       "4 155                 0       \n",
       "5 155                 0       \n",
       "6  85                 0       "
      ]
     },
     "metadata": {},
     "output_type": "display_data"
    }
   ],
   "source": [
    "library(tidyverse)\n",
    "url <- \"https://raw.githubusercontent.com/billiehbl/project_group33/main/diabetes_prediction_dataset.csv\"\n",
    "diabetes_data <- read_csv(url)\n",
    "head(diabetes_data)"
   ]
  },
  {
   "cell_type": "markdown",
   "id": "2b548f80-3bb8-4a72-b66a-f3055dfc1a21",
   "metadata": {},
   "source": [
    "## Splitting into traning and testing"
   ]
  },
  {
   "cell_type": "markdown",
   "id": "a301343b-ea66-4bb1-b549-5ed44ea1fee4",
   "metadata": {},
   "source": [
    "## Summarize"
   ]
  },
  {
   "cell_type": "markdown",
   "id": "b3532d6c-d1fc-4470-a17d-d4c7145fa55b",
   "metadata": {},
   "source": [
    "## Visualize"
   ]
  },
  {
   "cell_type": "markdown",
   "id": "10fdf995-8d4f-4047-99fd-12e19ebf2c01",
   "metadata": {},
   "source": [
    "# Methods"
   ]
  },
  {
   "cell_type": "markdown",
   "id": "116972a6-04e2-4017-aa2e-1168fd9120fd",
   "metadata": {},
   "source": [
    "# Summary"
   ]
  }
 ],
 "metadata": {
  "kernelspec": {
   "display_name": "R",
   "language": "R",
   "name": "ir"
  },
  "language_info": {
   "codemirror_mode": "r",
   "file_extension": ".r",
   "mimetype": "text/x-r-source",
   "name": "R",
   "pygments_lexer": "r",
   "version": "4.1.3"
  }
 },
 "nbformat": 4,
 "nbformat_minor": 5
}
