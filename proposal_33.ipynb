{
 "cells": [
  {
   "cell_type": "markdown",
   "id": "23827d47-50b0-4bc3-afc7-5996770982e7",
   "metadata": {},
   "source": [
    "# Group 33 - Proposal #"
   ]
  },
  {
   "cell_type": "markdown",
   "id": "6758c288-e8a2-4097-a051-73b968cfe470",
   "metadata": {},
   "source": [
    "# Introduction"
   ]
  },
  {
   "cell_type": "markdown",
   "id": "ce24e76a-c3ab-4ea2-8d02-fa15a497617a",
   "metadata": {},
   "source": [
    "# Preliminary exploratory data analysis\n"
   ]
  },
  {
   "cell_type": "markdown",
   "id": "b26d1195-7595-4591-a448-d9098b2c80fb",
   "metadata": {},
   "source": [
    "## Reading and Wrangling"
   ]
  },
  {
   "cell_type": "markdown",
   "id": "2b548f80-3bb8-4a72-b66a-f3055dfc1a21",
   "metadata": {},
   "source": [
    "## Splitting into traning and testing"
   ]
  },
  {
   "cell_type": "markdown",
   "id": "a301343b-ea66-4bb1-b549-5ed44ea1fee4",
   "metadata": {},
   "source": [
    "## Summarize"
   ]
  },
  {
   "cell_type": "markdown",
   "id": "b3532d6c-d1fc-4470-a17d-d4c7145fa55b",
   "metadata": {},
   "source": [
    "## Visualize"
   ]
  },
  {
   "cell_type": "markdown",
   "id": "10fdf995-8d4f-4047-99fd-12e19ebf2c01",
   "metadata": {},
   "source": [
    "# Methods"
   ]
  },
  {
   "cell_type": "markdown",
   "id": "116972a6-04e2-4017-aa2e-1168fd9120fd",
   "metadata": {},
   "source": [
    "# Summary"
   ]
  }
 ],
 "metadata": {
  "kernelspec": {
   "display_name": "R",
   "language": "R",
   "name": "ir"
  },
  "language_info": {
   "codemirror_mode": "r",
   "file_extension": ".r",
   "mimetype": "text/x-r-source",
   "name": "R",
   "pygments_lexer": "r",
   "version": "4.1.3"
  }
 },
 "nbformat": 4,
 "nbformat_minor": 5
}
